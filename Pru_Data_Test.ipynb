{
  "nbformat": 4,
  "nbformat_minor": 0,
  "metadata": {
    "celltoolbar": "Raw Cell Format",
    "colab": {
      "name": "Pru_Data_Test.ipynb",
      "provenance": []
    },
    "kernelspec": {
      "display_name": "Python 3",
      "language": "python",
      "name": "python3"
    },
    "language_info": {
      "codemirror_mode": {
        "name": "ipython",
        "version": 3
      },
      "file_extension": ".py",
      "mimetype": "text/x-python",
      "name": "python",
      "nbconvert_exporter": "python",
      "pygments_lexer": "ipython3",
      "version": "3.6.4"
    },
    "toc": {
      "colors": {
        "hover_highlight": "#DAA520",
        "running_highlight": "#FF0000",
        "selected_highlight": "#FFD700"
      },
      "moveMenuLeft": true,
      "nav_menu": {},
      "navigate_menu": true,
      "number_sections": true,
      "sideBar": true,
      "skip_h1_title": false,
      "threshold": 4,
      "toc_cell": false,
      "toc_position": {
        "height": "977px",
        "left": "0px",
        "right": "1457.01px",
        "top": "107px",
        "width": "214px"
      },
      "toc_section_display": "block",
      "toc_window_display": true
    }
  },
  "cells": [
    {
      "cell_type": "markdown",
      "metadata": {
        "id": "-bNaXjjK3IzZ"
      },
      "source": [
        "# Pru Wealth Data Test\n",
        "\n",
        "Below we will explore a mock database of customers, policies and funds that are similar to the Pru Wealth data. The first section of this notebook will test your SQL skills, the second section will test your Python skills and visualisation skills.\n",
        "\n",
        "The database file is called Prudential_Data.db\n",
        "\n",
        "The three tables included in this database are:\n",
        "* Customer_Table\n",
        "* Policy_Table\n",
        "* Fund_Table\n",
        "\n",
        "You will need to have the following packages installed in your Python environment:\n",
        "* numpy\n",
        "* pandas\n",
        "* sqlite3\n",
        "\n",
        "For visualization use any package of your choice (e.g., matplotlib, seaborn, plotly).\n",
        "\n",
        "Please complete and return the test before the deadline by emailing your copy of this notebook to: Denholm.Hesse@Prudential.co.uk. If you do not know the answer to a question feel free to use Google and Stack Overflow. This is to give you the option to teach yourself a concept from the internet to address a question which you do not know the answer to, please refrain from skipping questions. The test is meant to be completed by you only.\n",
        "\n",
        "Good luck and have fun!"
      ]
    },
    {
      "cell_type": "code",
      "metadata": {
        "id": "6-pME7LM3Iza"
      },
      "source": [
        "import numpy as np\n",
        "import pandas as pd\n",
        "import sqlite3"
      ],
      "execution_count": 10,
      "outputs": []
    },
    {
      "cell_type": "markdown",
      "metadata": {
        "id": "8N9gkxVv3Izb"
      },
      "source": [
        "# SQL test\n",
        "\n",
        "IMPORANT: Please make sure all questions in this section are solved using SQL by only editing the content of the variable *sqlite_query*. Please do not edit the below cell:"
      ]
    },
    {
      "cell_type": "code",
      "metadata": {
        "id": "4ciRPz2z3Izc"
      },
      "source": [
        "# Establish DB connection\n",
        "conn = sqlite3.connect('Prudential_Data.db')"
      ],
      "execution_count": 11,
      "outputs": []
    },
    {
      "cell_type": "markdown",
      "metadata": {
        "id": "wBWJxsIz3Izc"
      },
      "source": [
        "Below is an example of how to query the SQLlite databse from this Jupyter notebook. Please note that SQLlite might have a slightly different syntax from the SQL you normally use. Please do not edit the below cell:"
      ]
    },
    {
      "cell_type": "code",
      "metadata": {
        "colab": {
          "base_uri": "https://localhost:8080/",
          "height": 80
        },
        "id": "j88SqO1e3Izc",
        "outputId": "e5c1370d-2173-4309-ea1c-949259b75de7"
      },
      "source": [
        "sqlite_query = \"\"\"\n",
        "SELECT COUNT(*) \n",
        "from policy_table \n",
        "\"\"\"\n",
        "\n",
        "pd.read_sql(sqlite_query, conn)"
      ],
      "execution_count": 12,
      "outputs": [
        {
          "output_type": "execute_result",
          "data": {
            "text/html": [
              "<div>\n",
              "<style scoped>\n",
              "    .dataframe tbody tr th:only-of-type {\n",
              "        vertical-align: middle;\n",
              "    }\n",
              "\n",
              "    .dataframe tbody tr th {\n",
              "        vertical-align: top;\n",
              "    }\n",
              "\n",
              "    .dataframe thead th {\n",
              "        text-align: right;\n",
              "    }\n",
              "</style>\n",
              "<table border=\"1\" class=\"dataframe\">\n",
              "  <thead>\n",
              "    <tr style=\"text-align: right;\">\n",
              "      <th></th>\n",
              "      <th>COUNT(*)</th>\n",
              "    </tr>\n",
              "  </thead>\n",
              "  <tbody>\n",
              "    <tr>\n",
              "      <th>0</th>\n",
              "      <td>1635</td>\n",
              "    </tr>\n",
              "  </tbody>\n",
              "</table>\n",
              "</div>"
            ],
            "text/plain": [
              "   COUNT(*)\n",
              "0      1635"
            ]
          },
          "metadata": {
            "tags": []
          },
          "execution_count": 12
        }
      ]
    },
    {
      "cell_type": "markdown",
      "metadata": {
        "id": "Ac7s8RWN3Izd"
      },
      "source": [
        "The first table \"Customer_Table\" contains personal information about the customers. Please do not edit the below cell:"
      ]
    },
    {
      "cell_type": "code",
      "metadata": {
        "colab": {
          "base_uri": "https://localhost:8080/",
          "height": 204
        },
        "id": "T5OHEzz83Izd",
        "outputId": "929aa604-0882-4f35-e6a9-4694ca35b921"
      },
      "source": [
        "sqlite_query = \"\"\"\n",
        "SELECT * \n",
        "from Customer_Table \n",
        "limit 5\n",
        "\"\"\"\n",
        "\n",
        "pd.read_sql(sqlite_query, conn)"
      ],
      "execution_count": 13,
      "outputs": [
        {
          "output_type": "execute_result",
          "data": {
            "text/html": [
              "<div>\n",
              "<style scoped>\n",
              "    .dataframe tbody tr th:only-of-type {\n",
              "        vertical-align: middle;\n",
              "    }\n",
              "\n",
              "    .dataframe tbody tr th {\n",
              "        vertical-align: top;\n",
              "    }\n",
              "\n",
              "    .dataframe thead th {\n",
              "        text-align: right;\n",
              "    }\n",
              "</style>\n",
              "<table border=\"1\" class=\"dataframe\">\n",
              "  <thead>\n",
              "    <tr style=\"text-align: right;\">\n",
              "      <th></th>\n",
              "      <th>index</th>\n",
              "      <th>Customer ID</th>\n",
              "      <th>Email</th>\n",
              "      <th>Gender</th>\n",
              "      <th>Age</th>\n",
              "      <th>Postcode</th>\n",
              "    </tr>\n",
              "  </thead>\n",
              "  <tbody>\n",
              "    <tr>\n",
              "      <th>0</th>\n",
              "      <td>0</td>\n",
              "      <td>CO183683</td>\n",
              "      <td>NLUPPITT14@PARALLELS.COM</td>\n",
              "      <td>Male</td>\n",
              "      <td>90</td>\n",
              "      <td>None</td>\n",
              "    </tr>\n",
              "    <tr>\n",
              "      <th>1</th>\n",
              "      <td>1</td>\n",
              "      <td>CO314757</td>\n",
              "      <td>None</td>\n",
              "      <td>Female</td>\n",
              "      <td>90</td>\n",
              "      <td>None</td>\n",
              "    </tr>\n",
              "    <tr>\n",
              "      <th>2</th>\n",
              "      <td>2</td>\n",
              "      <td>CO720602</td>\n",
              "      <td>None</td>\n",
              "      <td>Female</td>\n",
              "      <td>90</td>\n",
              "      <td>None</td>\n",
              "    </tr>\n",
              "    <tr>\n",
              "      <th>3</th>\n",
              "      <td>3</td>\n",
              "      <td>CO34804</td>\n",
              "      <td>None</td>\n",
              "      <td>Female</td>\n",
              "      <td>90</td>\n",
              "      <td>1495-701</td>\n",
              "    </tr>\n",
              "    <tr>\n",
              "      <th>4</th>\n",
              "      <td>4</td>\n",
              "      <td>CO474411</td>\n",
              "      <td>None</td>\n",
              "      <td>Male</td>\n",
              "      <td>90</td>\n",
              "      <td>301288</td>\n",
              "    </tr>\n",
              "  </tbody>\n",
              "</table>\n",
              "</div>"
            ],
            "text/plain": [
              "   index Customer ID                     Email  Gender  Age  Postcode\n",
              "0      0    CO183683  NLUPPITT14@PARALLELS.COM    Male   90      None\n",
              "1      1    CO314757                      None  Female   90      None\n",
              "2      2    CO720602                      None  Female   90      None\n",
              "3      3     CO34804                      None  Female   90  1495-701\n",
              "4      4    CO474411                      None    Male   90    301288"
            ]
          },
          "metadata": {
            "tags": []
          },
          "execution_count": 13
        }
      ]
    },
    {
      "cell_type": "markdown",
      "metadata": {
        "id": "SI8y3pGt3Ize"
      },
      "source": [
        "The second table \"Policy_Table\" contains data relating to customer policies. The policy value is the current value of the policy. Please do not edit the below cell:"
      ]
    },
    {
      "cell_type": "code",
      "metadata": {
        "colab": {
          "base_uri": "https://localhost:8080/",
          "height": 204
        },
        "id": "slmMS6dx3Ize",
        "outputId": "f7fccb6a-aa1d-40f5-8d27-5f6517aafd11"
      },
      "source": [
        "sqlite_query = \"\"\"\n",
        "SELECT * \n",
        "from Policy_Table \n",
        "limit 5\n",
        "\"\"\"\n",
        "\n",
        "pd.read_sql(sqlite_query, conn)"
      ],
      "execution_count": null,
      "outputs": [
        {
          "output_type": "execute_result",
          "data": {
            "text/html": [
              "<div>\n",
              "<style scoped>\n",
              "    .dataframe tbody tr th:only-of-type {\n",
              "        vertical-align: middle;\n",
              "    }\n",
              "\n",
              "    .dataframe tbody tr th {\n",
              "        vertical-align: top;\n",
              "    }\n",
              "\n",
              "    .dataframe thead th {\n",
              "        text-align: right;\n",
              "    }\n",
              "</style>\n",
              "<table border=\"1\" class=\"dataframe\">\n",
              "  <thead>\n",
              "    <tr style=\"text-align: right;\">\n",
              "      <th></th>\n",
              "      <th>index</th>\n",
              "      <th>Policy Number</th>\n",
              "      <th>Customer ID</th>\n",
              "      <th>Product Category</th>\n",
              "      <th>Product Name</th>\n",
              "      <th>Policy Value</th>\n",
              "      <th>Policy Start Date</th>\n",
              "    </tr>\n",
              "  </thead>\n",
              "  <tbody>\n",
              "    <tr>\n",
              "      <th>0</th>\n",
              "      <td>0</td>\n",
              "      <td>RET100072</td>\n",
              "      <td>CO276506</td>\n",
              "      <td>RETIREMENT</td>\n",
              "      <td>RETIREMENT ACCOUNT</td>\n",
              "      <td>270033.0</td>\n",
              "      <td>2016-01-02 00:00:00</td>\n",
              "    </tr>\n",
              "    <tr>\n",
              "      <th>1</th>\n",
              "      <td>1</td>\n",
              "      <td>RET100931</td>\n",
              "      <td>CO831289</td>\n",
              "      <td>RETIREMENT</td>\n",
              "      <td>RETIREMENT ACCOUNT</td>\n",
              "      <td>26394.0</td>\n",
              "      <td>2016-01-04 00:00:00</td>\n",
              "    </tr>\n",
              "    <tr>\n",
              "      <th>2</th>\n",
              "      <td>2</td>\n",
              "      <td>RET100682</td>\n",
              "      <td>CO784249</td>\n",
              "      <td>RETIREMENT</td>\n",
              "      <td>RETIREMENT ACCOUNT</td>\n",
              "      <td>773567.0</td>\n",
              "      <td>2016-01-04 00:00:00</td>\n",
              "    </tr>\n",
              "    <tr>\n",
              "      <th>3</th>\n",
              "      <td>3</td>\n",
              "      <td>RET100447</td>\n",
              "      <td>CO295533</td>\n",
              "      <td>RETIREMENT</td>\n",
              "      <td>RETIREMENT ACCOUNT</td>\n",
              "      <td>35512.0</td>\n",
              "      <td>2016-01-07 00:00:00</td>\n",
              "    </tr>\n",
              "    <tr>\n",
              "      <th>4</th>\n",
              "      <td>4</td>\n",
              "      <td>RET100390</td>\n",
              "      <td>CO901735</td>\n",
              "      <td>RETIREMENT</td>\n",
              "      <td>RETIREMENT ACCOUNT</td>\n",
              "      <td>767580.0</td>\n",
              "      <td>2016-01-08 00:00:00</td>\n",
              "    </tr>\n",
              "  </tbody>\n",
              "</table>\n",
              "</div>"
            ],
            "text/plain": [
              "   index Policy Number  ... Policy Value    Policy Start Date\n",
              "0      0     RET100072  ...     270033.0  2016-01-02 00:00:00\n",
              "1      1     RET100931  ...      26394.0  2016-01-04 00:00:00\n",
              "2      2     RET100682  ...     773567.0  2016-01-04 00:00:00\n",
              "3      3     RET100447  ...      35512.0  2016-01-07 00:00:00\n",
              "4      4     RET100390  ...     767580.0  2016-01-08 00:00:00\n",
              "\n",
              "[5 rows x 7 columns]"
            ]
          },
          "metadata": {
            "tags": []
          },
          "execution_count": 5
        }
      ]
    },
    {
      "cell_type": "markdown",
      "metadata": {
        "id": "dsgSRaCI3Ize"
      },
      "source": [
        "The final table \"Fund_Table\" contains historic data on the Policy Value (Policy_Value_Snapshot). The Policy_Value_Snapshot represents the value of the policy and the Date column is the date at which that value was recorded. The value may have changed overtime due to changes in the fund price or quanity of units the policy was invested in. Please do not edit the below cell:"
      ]
    },
    {
      "cell_type": "code",
      "metadata": {
        "colab": {
          "base_uri": "https://localhost:8080/",
          "height": 306
        },
        "id": "_Bbx8WHP3Izf",
        "outputId": "d2adc310-89f2-47bb-fe43-776f45adcdeb"
      },
      "source": [
        "sqlite_query = \"\"\"\n",
        "SELECT \n",
        "*\n",
        "from Fund_Table\n",
        "limit 5\n",
        "\n",
        "\"\"\"\n",
        "\n",
        "pd.read_sql(sqlite_query, conn)"
      ],
      "execution_count": null,
      "outputs": [
        {
          "output_type": "execute_result",
          "data": {
            "text/html": [
              "<div>\n",
              "<style scoped>\n",
              "    .dataframe tbody tr th:only-of-type {\n",
              "        vertical-align: middle;\n",
              "    }\n",
              "\n",
              "    .dataframe tbody tr th {\n",
              "        vertical-align: top;\n",
              "    }\n",
              "\n",
              "    .dataframe thead th {\n",
              "        text-align: right;\n",
              "    }\n",
              "</style>\n",
              "<table border=\"1\" class=\"dataframe\">\n",
              "  <thead>\n",
              "    <tr style=\"text-align: right;\">\n",
              "      <th></th>\n",
              "      <th>index</th>\n",
              "      <th>Policy Number</th>\n",
              "      <th>Customer ID</th>\n",
              "      <th>Date</th>\n",
              "      <th>Product Category</th>\n",
              "      <th>Product Name</th>\n",
              "      <th>Policy_Value_Snapshot</th>\n",
              "    </tr>\n",
              "  </thead>\n",
              "  <tbody>\n",
              "    <tr>\n",
              "      <th>0</th>\n",
              "      <td>0</td>\n",
              "      <td>ANN1221</td>\n",
              "      <td>CO408564</td>\n",
              "      <td>2009-10-31 00:00:00</td>\n",
              "      <td>ANNUITY</td>\n",
              "      <td>STANDARD ANNUITY</td>\n",
              "      <td>None</td>\n",
              "    </tr>\n",
              "    <tr>\n",
              "      <th>1</th>\n",
              "      <td>1</td>\n",
              "      <td>ANN1221</td>\n",
              "      <td>CO408564</td>\n",
              "      <td>2009-11-30 00:00:00</td>\n",
              "      <td>ANNUITY</td>\n",
              "      <td>STANDARD ANNUITY</td>\n",
              "      <td>None</td>\n",
              "    </tr>\n",
              "    <tr>\n",
              "      <th>2</th>\n",
              "      <td>2</td>\n",
              "      <td>ANN1221</td>\n",
              "      <td>CO408564</td>\n",
              "      <td>2009-12-31 00:00:00</td>\n",
              "      <td>ANNUITY</td>\n",
              "      <td>STANDARD ANNUITY</td>\n",
              "      <td>None</td>\n",
              "    </tr>\n",
              "    <tr>\n",
              "      <th>3</th>\n",
              "      <td>3</td>\n",
              "      <td>ANN1221</td>\n",
              "      <td>CO408564</td>\n",
              "      <td>2010-01-31 00:00:00</td>\n",
              "      <td>ANNUITY</td>\n",
              "      <td>STANDARD ANNUITY</td>\n",
              "      <td>None</td>\n",
              "    </tr>\n",
              "    <tr>\n",
              "      <th>4</th>\n",
              "      <td>4</td>\n",
              "      <td>ANN1221</td>\n",
              "      <td>CO408564</td>\n",
              "      <td>2010-02-28 00:00:00</td>\n",
              "      <td>ANNUITY</td>\n",
              "      <td>STANDARD ANNUITY</td>\n",
              "      <td>None</td>\n",
              "    </tr>\n",
              "  </tbody>\n",
              "</table>\n",
              "</div>"
            ],
            "text/plain": [
              "   index Policy Number  ...      Product Name Policy_Value_Snapshot\n",
              "0      0       ANN1221  ...  STANDARD ANNUITY                  None\n",
              "1      1       ANN1221  ...  STANDARD ANNUITY                  None\n",
              "2      2       ANN1221  ...  STANDARD ANNUITY                  None\n",
              "3      3       ANN1221  ...  STANDARD ANNUITY                  None\n",
              "4      4       ANN1221  ...  STANDARD ANNUITY                  None\n",
              "\n",
              "[5 rows x 7 columns]"
            ]
          },
          "metadata": {
            "tags": []
          },
          "execution_count": 6
        }
      ]
    },
    {
      "cell_type": "markdown",
      "metadata": {
        "id": "pk1mL8H53Izf"
      },
      "source": [
        "If a question requires additional explanation for your answer, please add additional cells below the code. "
      ]
    },
    {
      "cell_type": "markdown",
      "metadata": {
        "id": "LkUE0bsp3Izf"
      },
      "source": [
        "## Q1: What is the current average policy value split by each product name? "
      ]
    },
    {
      "cell_type": "code",
      "metadata": {
        "colab": {
          "base_uri": "https://localhost:8080/",
          "height": 328
        },
        "id": "V93PbH9a3Izf",
        "outputId": "77e4a717-6fb4-4944-ab73-72d96ef014ac"
      },
      "source": [
        "sqlite_query = \"\"\"\n",
        "SELECT\n",
        "\"Product Name\", AVG(\"Policy Value\") as AVG_POLICY_VALUE\n",
        "from Policy_Table\n",
        "group by \"Product Name\"\n",
        "\"\"\"\n",
        "\n",
        "pd.read_sql(sqlite_query, conn)"
      ],
      "execution_count": null,
      "outputs": [
        {
          "output_type": "execute_result",
          "data": {
            "text/html": [
              "<div>\n",
              "<style scoped>\n",
              "    .dataframe tbody tr th:only-of-type {\n",
              "        vertical-align: middle;\n",
              "    }\n",
              "\n",
              "    .dataframe tbody tr th {\n",
              "        vertical-align: top;\n",
              "    }\n",
              "\n",
              "    .dataframe thead th {\n",
              "        text-align: right;\n",
              "    }\n",
              "</style>\n",
              "<table border=\"1\" class=\"dataframe\">\n",
              "  <thead>\n",
              "    <tr style=\"text-align: right;\">\n",
              "      <th></th>\n",
              "      <th>Product Name</th>\n",
              "      <th>AVG_POLICY_VALUE</th>\n",
              "    </tr>\n",
              "  </thead>\n",
              "  <tbody>\n",
              "    <tr>\n",
              "      <th>0</th>\n",
              "      <td>CORPORATE MEMBERSHIP</td>\n",
              "      <td>5697.285714</td>\n",
              "    </tr>\n",
              "    <tr>\n",
              "      <th>1</th>\n",
              "      <td>FOCUSSED ISA</td>\n",
              "      <td>5746.341270</td>\n",
              "    </tr>\n",
              "    <tr>\n",
              "      <th>2</th>\n",
              "      <td>NHS PENSION</td>\n",
              "      <td>5241.500000</td>\n",
              "    </tr>\n",
              "    <tr>\n",
              "      <th>3</th>\n",
              "      <td>PRU BOND</td>\n",
              "      <td>4516.389831</td>\n",
              "    </tr>\n",
              "    <tr>\n",
              "      <th>4</th>\n",
              "      <td>PRUDENTIAL INVESTMENT PLAN</td>\n",
              "      <td>5084.515152</td>\n",
              "    </tr>\n",
              "    <tr>\n",
              "      <th>5</th>\n",
              "      <td>PRUDENTIAL ISA</td>\n",
              "      <td>5161.135593</td>\n",
              "    </tr>\n",
              "    <tr>\n",
              "      <th>6</th>\n",
              "      <td>RETIREMENT ACCOUNT</td>\n",
              "      <td>504964.959960</td>\n",
              "    </tr>\n",
              "    <tr>\n",
              "      <th>7</th>\n",
              "      <td>SIPP</td>\n",
              "      <td>5335.842466</td>\n",
              "    </tr>\n",
              "    <tr>\n",
              "      <th>8</th>\n",
              "      <td>STANDARD ANNUITY</td>\n",
              "      <td>NaN</td>\n",
              "    </tr>\n",
              "  </tbody>\n",
              "</table>\n",
              "</div>"
            ],
            "text/plain": [
              "                 Product Name  AVG_POLICY_VALUE\n",
              "0        CORPORATE MEMBERSHIP       5697.285714\n",
              "1                FOCUSSED ISA       5746.341270\n",
              "2                 NHS PENSION       5241.500000\n",
              "3                    PRU BOND       4516.389831\n",
              "4  PRUDENTIAL INVESTMENT PLAN       5084.515152\n",
              "5              PRUDENTIAL ISA       5161.135593\n",
              "6          RETIREMENT ACCOUNT     504964.959960\n",
              "7                        SIPP       5335.842466\n",
              "8            STANDARD ANNUITY               NaN"
            ]
          },
          "metadata": {
            "tags": []
          },
          "execution_count": 9
        }
      ]
    },
    {
      "cell_type": "markdown",
      "metadata": {
        "id": "qiDB-hc13Izg"
      },
      "source": [
        "## Q2: How many customers opened a new policy in Q1 2017 who already had an existing pension product? "
      ]
    },
    {
      "cell_type": "code",
      "metadata": {
        "colab": {
          "base_uri": "https://localhost:8080/",
          "height": 80
        },
        "id": "yaKGR9UN3Izg",
        "scrolled": true,
        "outputId": "794ec09d-513e-4794-cc7f-a1a7cfe99db7"
      },
      "source": [
        "sqlite_query = \"\"\"\n",
        "SELECT\n",
        "COUNT(DISTINCT \"Customer ID\") as TOTAL_COUNT\n",
        "from Policy_Table\n",
        "where \"Policy Start Date\" BETWEEN \"2017-01-01 00:00:00\" AND \"2017-03-01 00:00:00\"\n",
        "AND \"Customer ID\" in\n",
        "(\n",
        "  SELECT\n",
        "  \"Customer ID\"\n",
        "  from Policy_Table\n",
        "  where \"Product Category\" = \"PENSION\" AND \"Policy Start Date\" < \"2017-01-01 00:00:00\"\n",
        ")\n",
        "\"\"\"\n",
        "pd.read_sql(sqlite_query, conn)"
      ],
      "execution_count": null,
      "outputs": [
        {
          "output_type": "execute_result",
          "data": {
            "text/html": [
              "<div>\n",
              "<style scoped>\n",
              "    .dataframe tbody tr th:only-of-type {\n",
              "        vertical-align: middle;\n",
              "    }\n",
              "\n",
              "    .dataframe tbody tr th {\n",
              "        vertical-align: top;\n",
              "    }\n",
              "\n",
              "    .dataframe thead th {\n",
              "        text-align: right;\n",
              "    }\n",
              "</style>\n",
              "<table border=\"1\" class=\"dataframe\">\n",
              "  <thead>\n",
              "    <tr style=\"text-align: right;\">\n",
              "      <th></th>\n",
              "      <th>TOTAL_COUNT</th>\n",
              "    </tr>\n",
              "  </thead>\n",
              "  <tbody>\n",
              "    <tr>\n",
              "      <th>0</th>\n",
              "      <td>35</td>\n",
              "    </tr>\n",
              "  </tbody>\n",
              "</table>\n",
              "</div>"
            ],
            "text/plain": [
              "   TOTAL_COUNT\n",
              "0           35"
            ]
          },
          "metadata": {
            "tags": []
          },
          "execution_count": 55
        }
      ]
    },
    {
      "cell_type": "markdown",
      "metadata": {
        "id": "qc2Z_M8q3Izg"
      },
      "source": [
        "## Q3: What was the customer ID that had the biggest difference in policy value between its earliest and latest date (for any product) ?"
      ]
    },
    {
      "cell_type": "code",
      "metadata": {
        "colab": {
          "base_uri": "https://localhost:8080/",
          "height": 80
        },
        "id": "C9V0NrbZ3Izg",
        "outputId": "fdbd3da7-6046-41b0-f9c1-346ebeb0f817"
      },
      "source": [
        "sqlite_query = \"\"\"\n",
        "SELECT\n",
        "\"Customer ID\", \"Policy Number\", (MAX(Policy_Value) - MIN(Policy_Value)) as DIFF\n",
        "from\n",
        "(\n",
        "  SELECT\n",
        "  \"Customer ID\", \"Policy Number\", \"Policy Value\" as Policy_Value\n",
        "  from Policy_Table\n",
        "\n",
        "  UNION\n",
        "\n",
        "  SELECT\n",
        "  \"Customer ID\", \"Policy Number\", Policy_Value_Snapshot as Policy_Value\n",
        "  from Fund_Table\n",
        ")\n",
        "group by \"Customer ID\", \"Policy Number\"\n",
        "order by DIFF desc \n",
        "limit 1\n",
        "\"\"\"\n",
        "pd.read_sql(sqlite_query, conn)"
      ],
      "execution_count": null,
      "outputs": [
        {
          "output_type": "execute_result",
          "data": {
            "text/html": [
              "<div>\n",
              "<style scoped>\n",
              "    .dataframe tbody tr th:only-of-type {\n",
              "        vertical-align: middle;\n",
              "    }\n",
              "\n",
              "    .dataframe tbody tr th {\n",
              "        vertical-align: top;\n",
              "    }\n",
              "\n",
              "    .dataframe thead th {\n",
              "        text-align: right;\n",
              "    }\n",
              "</style>\n",
              "<table border=\"1\" class=\"dataframe\">\n",
              "  <thead>\n",
              "    <tr style=\"text-align: right;\">\n",
              "      <th></th>\n",
              "      <th>Customer ID</th>\n",
              "      <th>Policy Number</th>\n",
              "      <th>DIFF</th>\n",
              "    </tr>\n",
              "  </thead>\n",
              "  <tbody>\n",
              "    <tr>\n",
              "      <th>0</th>\n",
              "      <td>CO401070</td>\n",
              "      <td>RET100479</td>\n",
              "      <td>943283.5</td>\n",
              "    </tr>\n",
              "  </tbody>\n",
              "</table>\n",
              "</div>"
            ],
            "text/plain": [
              "  Customer ID Policy Number      DIFF\n",
              "0    CO401070     RET100479  943283.5"
            ]
          },
          "metadata": {
            "tags": []
          },
          "execution_count": 97
        }
      ]
    },
    {
      "cell_type": "markdown",
      "metadata": {
        "id": "2-Yss1OD3Izg"
      },
      "source": [
        "# Python Test\n",
        "\n",
        "Same data, but now let's have some fun in python. Please do not use SQL for this part of the exercise. \n",
        "\n",
        "Feel free to add more cells of code or text"
      ]
    },
    {
      "cell_type": "code",
      "metadata": {
        "id": "MnYk0DUt3Izh"
      },
      "source": [
        "Customer_Table = pd.read_sql('SELECT * FROM Customer_Table', conn)\n",
        "Policy_Table = pd.read_sql('SELECT * FROM Policy_Table', conn)\n",
        "Fund_Table = pd.read_sql('SELECT * FROM Fund_Table', conn)"
      ],
      "execution_count": 14,
      "outputs": []
    },
    {
      "cell_type": "markdown",
      "metadata": {
        "id": "HRjjiqrN3Izh"
      },
      "source": [
        "## Q4: Produce a list of customers which have an invalid email address. What do you notice about these customers? ##\n",
        "\n",
        "Feel free to use any packages of your choice"
      ]
    },
    {
      "cell_type": "code",
      "metadata": {
        "id": "VTcAmDL33Izh",
        "colab": {
          "base_uri": "https://localhost:8080/"
        },
        "outputId": "454f03f8-ff37-46e5-c8b0-565dd2b7a89f"
      },
      "source": [
        "#Insert your answer below: \n",
        "import re\n",
        "\n",
        "regex = '^(\\w|\\.|\\_|\\-)+[@](\\w|\\_|\\-|\\.)+[.]\\w{2,3}$'\n",
        "for index, row in Customer_Table.iterrows():\n",
        "  email = str(row['Email'])\n",
        "  if(not re.search(regex, email)):\n",
        "    print(row['Customer ID'], row['Email'], row['Gender'], row['Age'], row['Postcode'])"
      ],
      "execution_count": 15,
      "outputs": [
        {
          "output_type": "stream",
          "text": [
            "CO314757 None Female 90 None\n",
            "CO720602 None Female 90 None\n",
            "CO34804 None Female 90 1495-701\n",
            "CO474411 None Male 90 301288\n",
            "CO777973 None Female 90 None\n",
            "CO311505 None Male 90 None\n",
            "CO474987 None Female 89 None\n",
            "CO496581 None Female 89 36520-000\n",
            "CO862381 None Male 89 8301\n",
            "CO401070 None Female 88 None\n",
            "CO131348 None Male 88 None\n",
            "CO494489 None Female 88 None\n",
            "CO340827 None Male 88 6121\n",
            "CO990552 None Male 87 1618\n",
            "CO623285 None Female 87 None\n",
            "CO276506 None Female 87 None\n",
            "CO531274 None Female 87 None\n",
            "CO486130 None Male 87 649787\n",
            "CO607185 None Male 87 None\n",
            "CO797073 None Female 87 None\n",
            "CO697092 None Female 87 None\n",
            "CO462135 None Male 87 None\n",
            "CO636054 None Male 87 75706 CEDEX 13\n",
            "CO28776 None Male 87 7019\n",
            "CO259564 None Male 87 None\n",
            "CO377225 None Female 85 70826\n",
            "CO343669 None Female 85 None\n",
            "CO76470 None Male 85 29952\n",
            "CO997036 None Male 85 None\n",
            "CO878780 None Female 85 None\n",
            "CO714161 None Male 85 None\n",
            "CO46570 None Female 85 None\n",
            "CO34681 None Male 85 None\n",
            "CO521545 None Male 85 4950-070\n",
            "CO823952 None Male 85 None\n",
            "CO478692 None Male 85 2432\n",
            "CO360302 None Female 84 2980\n",
            "CO609712 NOEMAIL Male 81 None\n",
            "CO668361 None Male 76 None\n",
            "CO321339 None Female 75 None\n",
            "CO424141 None Male 75 None\n",
            "CO71578 TGADDIEHB@TOPSY Female 74 None\n",
            "CO545536 VPEGGSK3@@@SPRINGER.COM Male 74 46100-000\n",
            "CO660405 None Male 73 MD-6227\n",
            "CO186677 None Male 71 None\n",
            "CO795420 . Female 68 680011\n",
            "CO825106 None Female 65 59-225\n",
            "CO285665 None Male 65 None\n",
            "CO205159 ALOWSELYHF@#AMAZON.CO.JP Female 65 None\n",
            "CO155821 None Male 64 521 96\n",
            "CO20742 None Female 64 46240\n",
            "CO177172 None Male 62 None\n",
            "CO37714 GSTEERSMR@ABOUTADS.INFO Male 42 2600\n",
            "CO922481 CUSTOMER TO FOLLOW UP Male 33 8340\n"
          ],
          "name": "stdout"
        }
      ]
    },
    {
      "cell_type": "markdown",
      "metadata": {
        "id": "H70RDUe52Xd8"
      },
      "source": [
        "## ***As per my observation from the above result, most of the invalid email entries are of the customers with more than 60 years of age (Senior Citizens).***"
      ]
    },
    {
      "cell_type": "markdown",
      "metadata": {
        "id": "iyVLF_DQ3Izh"
      },
      "source": [
        "## Q5: The Managing Director of Pru Wealth needs to see how policy value differs between other variables in the database (e.g. customer demographics) . They don't have time to read a report, so have asked for a cool visualisation that tells a story.\n",
        "\n",
        "Visualise something cool, tell us a story! You can use packages like Matplotlib, Seaborn or Plotly.Tell us why you chose to visualise the data in this way and how it can be used from a business perspective.\n"
      ]
    },
    {
      "cell_type": "code",
      "metadata": {
        "id": "3DPkSqod3Izh",
        "colab": {
          "base_uri": "https://localhost:8080/",
          "height": 363
        },
        "outputId": "453ba005-b547-4578-aa06-dc2defd2691b"
      },
      "source": [
        "# Insert your answer below: \n",
        "\n",
        "import matplotlib.pyplot as plt\n",
        "\n",
        "# Calculating total current policy value\n",
        "TOTAL_CURRENT_POLICY_VALUE = Policy_Table['Policy Value'].sum()\n",
        "print(\"Total current policy value:\", TOTAL_CURRENT_POLICY_VALUE)\n",
        "\n",
        "# Joining Customer_Table and Policy_table\n",
        "tmp = pd.merge(Policy_Table, Customer_Table, on='Customer ID', how='inner')\n",
        "\n",
        "# Calculating total current policy value contribution by customers of Age < 25\n",
        "tmp_1 = tmp.where(tmp['Age'] < 25)\n",
        "TOTAL_1 = tmp_1['Policy Value'].sum() \n",
        "print(\"Total policy value of Learning Population (<25):\", TOTAL_1)\n",
        "\n",
        "# Calculating total current policy value contribution by customers of Age between 25 and 60\n",
        "tmp_2 = tmp.where(tmp['Age'].between(25, 60, inclusive = True))\n",
        "TOTAL_2 = tmp_2['Policy Value'].sum() \n",
        "print(\"Total policy value of Working Population (Between 25 and 60):\", TOTAL_2)\n",
        "\n",
        "# Calculating total current policy value contribution by customers of Age > 60\n",
        "tmp_3 = tmp.where(tmp['Age'] > 60)\n",
        "TOTAL_3 = tmp_3['Policy Value'].sum() \n",
        "print(\"Total policy value of Senior Citizens (>60):\", TOTAL_3)\n",
        "\n",
        "# Defining labels\n",
        "age_group_label = ['Learning Population (<25)', 'Working Population (Between 25 and 60)', 'Senior Citizens (>60)']\n",
        "\n",
        "# Portion covered by each label\n",
        "slices = [TOTAL_1, TOTAL_2, TOTAL_3]\n",
        "\n",
        "# Color for each label\n",
        "colors = ['r', 'b', 'g']\n",
        "\n",
        "print(\"\\nPie Chart showing % of total current policy value:\")\n",
        "\n",
        "# Plotting the pie chart\n",
        "plt.pie(slices, labels = age_group_label, colors=colors, \n",
        "        startangle=90, shadow = True, explode = (0, 0, 0.1),\n",
        "        radius = 1.2, autopct = '%1.1f%%')\n",
        "  \n",
        "# Plotting legend\n",
        "plt.legend()\n",
        "  \n",
        "# Showing the plot\n",
        "plt.show()\n"
      ],
      "execution_count": 38,
      "outputs": [
        {
          "output_type": "stream",
          "text": [
            "Total current policy value: 507178017.0\n",
            "Total policy value of Learning Population (<25): 2096014.0\n",
            "Total policy value of Working Population (Between 25 and 60): 193562026.0\n",
            "Total policy value of Senior Citizens (>60): 311519977.0\n",
            "\n",
            "Pie Chart showing % of total current policy value:\n"
          ],
          "name": "stdout"
        },
        {
          "output_type": "display_data",
          "data": {
            "image/png": "[encoded data removed]",
            "text/plain": [
              "<Figure size 432x288 with 1 Axes>"
            ]
          },
          "metadata": {
            "tags": []
          }
        }
      ]
    },
    {
      "cell_type": "markdown",
      "metadata": {
        "id": "K9kcTCJAvoMA"
      },
      "source": [
        "# ***As per my opinion, we can use the above graph to advertize and encourage the customers to enroll in the policies in their early phases of life. The graph demonstrates how the policy value just gets better as we get older.***"
      ]
    }
  ]
}